{
 "cells": [
  {
   "cell_type": "code",
   "id": "initial_id",
   "metadata": {
    "collapsed": true,
    "ExecuteTime": {
     "end_time": "2025-04-03T23:32:18.844009Z",
     "start_time": "2025-04-03T23:32:18.839401Z"
    }
   },
   "source": [
    "import pandas as pd\n",
    "import numpy as np\n",
    "from main import get_model_df"
   ],
   "outputs": [],
   "execution_count": 1
  },
  {
   "metadata": {
    "ExecuteTime": {
     "end_time": "2025-04-03T23:32:19.941525Z",
     "start_time": "2025-04-03T23:32:18.850552Z"
    }
   },
   "cell_type": "code",
   "source": [
    "# Load dataset\n",
    "df = get_model_df()\n",
    "\n",
    "high_cardinality_cols = ['model', 'brand']\n",
    "country_code = ['country_code']\n",
    "medium_cardinality_cols = ['case_material', 'movement']\n",
    "numerical_cols = ['year_of_production', 'case_diameter']\n",
    "rest_cols = ['condition', 'scope_of_delivery', 'year_unknown']\n"
   ],
   "id": "1cb7cb53f24cb485",
   "outputs": [],
   "execution_count": 2
  },
  {
   "metadata": {
    "ExecuteTime": {
     "end_time": "2025-04-03T23:32:20.097601Z",
     "start_time": "2025-04-03T23:32:20.045296Z"
    }
   },
   "cell_type": "code",
   "source": [
    "df = df[df[\"price\"] < 500000]\n",
    "\n",
    "# Use TargetEncoding for high cardinality columns\n",
    "for col in high_cardinality_cols:\n",
    "    df[col] = df.groupby(col)['price'].transform('mean')\n"
   ],
   "id": "99d2c7d77eefd0d6",
   "outputs": [],
   "execution_count": 3
  },
  {
   "metadata": {
    "ExecuteTime": {
     "end_time": "2025-04-03T23:32:20.110166Z",
     "start_time": "2025-04-03T23:32:20.102689Z"
    }
   },
   "cell_type": "code",
   "source": [
    "print(df.shape)\n",
    "df\n"
   ],
   "id": "8d4f550fa2d2d6ee",
   "outputs": [
    {
     "name": "stdout",
     "output_type": "stream",
     "text": [
      "(386438, 11)\n"
     ]
    },
    {
     "data": {
      "text/plain": [
       "               brand         model    price        movement case_material  \\\n",
       "0       23870.639668  14844.861083  19995.0       Automatic    Gold/Steel   \n",
       "1       23870.639668  12774.626285   8395.0       Automatic         Steel   \n",
       "2        6399.509170  11372.940746   5500.0  Manual winding         Steel   \n",
       "3        4316.199158   2371.727273   2190.0       Automatic         Steel   \n",
       "4        9158.035018  12339.683935   5895.0       Automatic         Steel   \n",
       "...              ...           ...      ...             ...           ...   \n",
       "386846  13525.314940  20145.521739  24166.0  Manual winding    White gold   \n",
       "386847   2135.152914   2160.229672   2051.0       Automatic         Steel   \n",
       "386848   1885.594051   1875.225131   2034.0       Automatic       Ceramic   \n",
       "386849   2135.152914   2160.229672   2084.0       Automatic         Steel   \n",
       "386850  23870.639668  14844.861083  17400.0       Automatic    Gold/Steel   \n",
       "\n",
       "        year_of_production  condition  scope_of_delivery  case_diameter  \\\n",
       "0                   2024.0          1                  1           41.0   \n",
       "1                   2024.0          2                  1           36.0   \n",
       "2                   2025.0          3                  1           42.0   \n",
       "3                   2012.0          2                  1           42.0   \n",
       "4                   2019.0          4                  3           42.0   \n",
       "...                    ...        ...                ...            ...   \n",
       "386846              2025.0          3                  1           42.0   \n",
       "386847              2025.0          3                  1           43.5   \n",
       "386848              2025.0          3                  1           38.0   \n",
       "386849              2025.0          3                  1           43.5   \n",
       "386850              2024.0          3                  1           41.0   \n",
       "\n",
       "       country_code  year_unknown  \n",
       "0                US             0  \n",
       "1                US             0  \n",
       "2                US             0  \n",
       "3                HK             0  \n",
       "4                US             0  \n",
       "...             ...           ...  \n",
       "386846           DE             0  \n",
       "386847           DE             0  \n",
       "386848           DE             0  \n",
       "386849           DE             0  \n",
       "386850           US             0  \n",
       "\n",
       "[386438 rows x 11 columns]"
      ],
      "text/html": [
       "<div>\n",
       "<style scoped>\n",
       "    .dataframe tbody tr th:only-of-type {\n",
       "        vertical-align: middle;\n",
       "    }\n",
       "\n",
       "    .dataframe tbody tr th {\n",
       "        vertical-align: top;\n",
       "    }\n",
       "\n",
       "    .dataframe thead th {\n",
       "        text-align: right;\n",
       "    }\n",
       "</style>\n",
       "<table border=\"1\" class=\"dataframe\">\n",
       "  <thead>\n",
       "    <tr style=\"text-align: right;\">\n",
       "      <th></th>\n",
       "      <th>brand</th>\n",
       "      <th>model</th>\n",
       "      <th>price</th>\n",
       "      <th>movement</th>\n",
       "      <th>case_material</th>\n",
       "      <th>year_of_production</th>\n",
       "      <th>condition</th>\n",
       "      <th>scope_of_delivery</th>\n",
       "      <th>case_diameter</th>\n",
       "      <th>country_code</th>\n",
       "      <th>year_unknown</th>\n",
       "    </tr>\n",
       "  </thead>\n",
       "  <tbody>\n",
       "    <tr>\n",
       "      <th>0</th>\n",
       "      <td>23870.639668</td>\n",
       "      <td>14844.861083</td>\n",
       "      <td>19995.0</td>\n",
       "      <td>Automatic</td>\n",
       "      <td>Gold/Steel</td>\n",
       "      <td>2024.0</td>\n",
       "      <td>1</td>\n",
       "      <td>1</td>\n",
       "      <td>41.0</td>\n",
       "      <td>US</td>\n",
       "      <td>0</td>\n",
       "    </tr>\n",
       "    <tr>\n",
       "      <th>1</th>\n",
       "      <td>23870.639668</td>\n",
       "      <td>12774.626285</td>\n",
       "      <td>8395.0</td>\n",
       "      <td>Automatic</td>\n",
       "      <td>Steel</td>\n",
       "      <td>2024.0</td>\n",
       "      <td>2</td>\n",
       "      <td>1</td>\n",
       "      <td>36.0</td>\n",
       "      <td>US</td>\n",
       "      <td>0</td>\n",
       "    </tr>\n",
       "    <tr>\n",
       "      <th>2</th>\n",
       "      <td>6399.509170</td>\n",
       "      <td>11372.940746</td>\n",
       "      <td>5500.0</td>\n",
       "      <td>Manual winding</td>\n",
       "      <td>Steel</td>\n",
       "      <td>2025.0</td>\n",
       "      <td>3</td>\n",
       "      <td>1</td>\n",
       "      <td>42.0</td>\n",
       "      <td>US</td>\n",
       "      <td>0</td>\n",
       "    </tr>\n",
       "    <tr>\n",
       "      <th>3</th>\n",
       "      <td>4316.199158</td>\n",
       "      <td>2371.727273</td>\n",
       "      <td>2190.0</td>\n",
       "      <td>Automatic</td>\n",
       "      <td>Steel</td>\n",
       "      <td>2012.0</td>\n",
       "      <td>2</td>\n",
       "      <td>1</td>\n",
       "      <td>42.0</td>\n",
       "      <td>HK</td>\n",
       "      <td>0</td>\n",
       "    </tr>\n",
       "    <tr>\n",
       "      <th>4</th>\n",
       "      <td>9158.035018</td>\n",
       "      <td>12339.683935</td>\n",
       "      <td>5895.0</td>\n",
       "      <td>Automatic</td>\n",
       "      <td>Steel</td>\n",
       "      <td>2019.0</td>\n",
       "      <td>4</td>\n",
       "      <td>3</td>\n",
       "      <td>42.0</td>\n",
       "      <td>US</td>\n",
       "      <td>0</td>\n",
       "    </tr>\n",
       "    <tr>\n",
       "      <th>...</th>\n",
       "      <td>...</td>\n",
       "      <td>...</td>\n",
       "      <td>...</td>\n",
       "      <td>...</td>\n",
       "      <td>...</td>\n",
       "      <td>...</td>\n",
       "      <td>...</td>\n",
       "      <td>...</td>\n",
       "      <td>...</td>\n",
       "      <td>...</td>\n",
       "      <td>...</td>\n",
       "    </tr>\n",
       "    <tr>\n",
       "      <th>386846</th>\n",
       "      <td>13525.314940</td>\n",
       "      <td>20145.521739</td>\n",
       "      <td>24166.0</td>\n",
       "      <td>Manual winding</td>\n",
       "      <td>White gold</td>\n",
       "      <td>2025.0</td>\n",
       "      <td>3</td>\n",
       "      <td>1</td>\n",
       "      <td>42.0</td>\n",
       "      <td>DE</td>\n",
       "      <td>0</td>\n",
       "    </tr>\n",
       "    <tr>\n",
       "      <th>386847</th>\n",
       "      <td>2135.152914</td>\n",
       "      <td>2160.229672</td>\n",
       "      <td>2051.0</td>\n",
       "      <td>Automatic</td>\n",
       "      <td>Steel</td>\n",
       "      <td>2025.0</td>\n",
       "      <td>3</td>\n",
       "      <td>1</td>\n",
       "      <td>43.5</td>\n",
       "      <td>DE</td>\n",
       "      <td>0</td>\n",
       "    </tr>\n",
       "    <tr>\n",
       "      <th>386848</th>\n",
       "      <td>1885.594051</td>\n",
       "      <td>1875.225131</td>\n",
       "      <td>2034.0</td>\n",
       "      <td>Automatic</td>\n",
       "      <td>Ceramic</td>\n",
       "      <td>2025.0</td>\n",
       "      <td>3</td>\n",
       "      <td>1</td>\n",
       "      <td>38.0</td>\n",
       "      <td>DE</td>\n",
       "      <td>0</td>\n",
       "    </tr>\n",
       "    <tr>\n",
       "      <th>386849</th>\n",
       "      <td>2135.152914</td>\n",
       "      <td>2160.229672</td>\n",
       "      <td>2084.0</td>\n",
       "      <td>Automatic</td>\n",
       "      <td>Steel</td>\n",
       "      <td>2025.0</td>\n",
       "      <td>3</td>\n",
       "      <td>1</td>\n",
       "      <td>43.5</td>\n",
       "      <td>DE</td>\n",
       "      <td>0</td>\n",
       "    </tr>\n",
       "    <tr>\n",
       "      <th>386850</th>\n",
       "      <td>23870.639668</td>\n",
       "      <td>14844.861083</td>\n",
       "      <td>17400.0</td>\n",
       "      <td>Automatic</td>\n",
       "      <td>Gold/Steel</td>\n",
       "      <td>2024.0</td>\n",
       "      <td>3</td>\n",
       "      <td>1</td>\n",
       "      <td>41.0</td>\n",
       "      <td>US</td>\n",
       "      <td>0</td>\n",
       "    </tr>\n",
       "  </tbody>\n",
       "</table>\n",
       "<p>386438 rows × 11 columns</p>\n",
       "</div>"
      ]
     },
     "execution_count": 4,
     "metadata": {},
     "output_type": "execute_result"
    }
   ],
   "execution_count": 4
  },
  {
   "metadata": {
    "ExecuteTime": {
     "end_time": "2025-04-03T23:32:20.193945Z",
     "start_time": "2025-04-03T23:32:20.165766Z"
    }
   },
   "cell_type": "code",
   "source": [
    "# Define training data\n",
    "X = df[numerical_cols + medium_cardinality_cols + rest_cols + country_code + high_cardinality_cols]\n",
    "y = df['price']\n",
    "\n",
    "# Set country_code to 1 if country code is US, else 0\n",
    "X.loc[:, 'country_code'] = np.where(df['country_code'] == 'US', 1, 0)"
   ],
   "id": "5e81c5c2f8d517ba",
   "outputs": [],
   "execution_count": 5
  },
  {
   "metadata": {
    "ExecuteTime": {
     "end_time": "2025-04-03T23:32:20.217468Z",
     "start_time": "2025-04-03T23:32:20.212267Z"
    }
   },
   "cell_type": "code",
   "source": "X\n",
   "id": "5d988574d80152c2",
   "outputs": [
    {
     "data": {
      "text/plain": [
       "        year_of_production  case_diameter case_material        movement  \\\n",
       "0                   2024.0           41.0    Gold/Steel       Automatic   \n",
       "1                   2024.0           36.0         Steel       Automatic   \n",
       "2                   2025.0           42.0         Steel  Manual winding   \n",
       "3                   2012.0           42.0         Steel       Automatic   \n",
       "4                   2019.0           42.0         Steel       Automatic   \n",
       "...                    ...            ...           ...             ...   \n",
       "386846              2025.0           42.0    White gold  Manual winding   \n",
       "386847              2025.0           43.5         Steel       Automatic   \n",
       "386848              2025.0           38.0       Ceramic       Automatic   \n",
       "386849              2025.0           43.5         Steel       Automatic   \n",
       "386850              2024.0           41.0    Gold/Steel       Automatic   \n",
       "\n",
       "        condition  scope_of_delivery  year_unknown country_code         model  \\\n",
       "0               1                  1             0            1  14844.861083   \n",
       "1               2                  1             0            1  12774.626285   \n",
       "2               3                  1             0            1  11372.940746   \n",
       "3               2                  1             0            0   2371.727273   \n",
       "4               4                  3             0            1  12339.683935   \n",
       "...           ...                ...           ...          ...           ...   \n",
       "386846          3                  1             0            0  20145.521739   \n",
       "386847          3                  1             0            0   2160.229672   \n",
       "386848          3                  1             0            0   1875.225131   \n",
       "386849          3                  1             0            0   2160.229672   \n",
       "386850          3                  1             0            1  14844.861083   \n",
       "\n",
       "               brand  \n",
       "0       23870.639668  \n",
       "1       23870.639668  \n",
       "2        6399.509170  \n",
       "3        4316.199158  \n",
       "4        9158.035018  \n",
       "...              ...  \n",
       "386846  13525.314940  \n",
       "386847   2135.152914  \n",
       "386848   1885.594051  \n",
       "386849   2135.152914  \n",
       "386850  23870.639668  \n",
       "\n",
       "[386438 rows x 10 columns]"
      ],
      "text/html": [
       "<div>\n",
       "<style scoped>\n",
       "    .dataframe tbody tr th:only-of-type {\n",
       "        vertical-align: middle;\n",
       "    }\n",
       "\n",
       "    .dataframe tbody tr th {\n",
       "        vertical-align: top;\n",
       "    }\n",
       "\n",
       "    .dataframe thead th {\n",
       "        text-align: right;\n",
       "    }\n",
       "</style>\n",
       "<table border=\"1\" class=\"dataframe\">\n",
       "  <thead>\n",
       "    <tr style=\"text-align: right;\">\n",
       "      <th></th>\n",
       "      <th>year_of_production</th>\n",
       "      <th>case_diameter</th>\n",
       "      <th>case_material</th>\n",
       "      <th>movement</th>\n",
       "      <th>condition</th>\n",
       "      <th>scope_of_delivery</th>\n",
       "      <th>year_unknown</th>\n",
       "      <th>country_code</th>\n",
       "      <th>model</th>\n",
       "      <th>brand</th>\n",
       "    </tr>\n",
       "  </thead>\n",
       "  <tbody>\n",
       "    <tr>\n",
       "      <th>0</th>\n",
       "      <td>2024.0</td>\n",
       "      <td>41.0</td>\n",
       "      <td>Gold/Steel</td>\n",
       "      <td>Automatic</td>\n",
       "      <td>1</td>\n",
       "      <td>1</td>\n",
       "      <td>0</td>\n",
       "      <td>1</td>\n",
       "      <td>14844.861083</td>\n",
       "      <td>23870.639668</td>\n",
       "    </tr>\n",
       "    <tr>\n",
       "      <th>1</th>\n",
       "      <td>2024.0</td>\n",
       "      <td>36.0</td>\n",
       "      <td>Steel</td>\n",
       "      <td>Automatic</td>\n",
       "      <td>2</td>\n",
       "      <td>1</td>\n",
       "      <td>0</td>\n",
       "      <td>1</td>\n",
       "      <td>12774.626285</td>\n",
       "      <td>23870.639668</td>\n",
       "    </tr>\n",
       "    <tr>\n",
       "      <th>2</th>\n",
       "      <td>2025.0</td>\n",
       "      <td>42.0</td>\n",
       "      <td>Steel</td>\n",
       "      <td>Manual winding</td>\n",
       "      <td>3</td>\n",
       "      <td>1</td>\n",
       "      <td>0</td>\n",
       "      <td>1</td>\n",
       "      <td>11372.940746</td>\n",
       "      <td>6399.509170</td>\n",
       "    </tr>\n",
       "    <tr>\n",
       "      <th>3</th>\n",
       "      <td>2012.0</td>\n",
       "      <td>42.0</td>\n",
       "      <td>Steel</td>\n",
       "      <td>Automatic</td>\n",
       "      <td>2</td>\n",
       "      <td>1</td>\n",
       "      <td>0</td>\n",
       "      <td>0</td>\n",
       "      <td>2371.727273</td>\n",
       "      <td>4316.199158</td>\n",
       "    </tr>\n",
       "    <tr>\n",
       "      <th>4</th>\n",
       "      <td>2019.0</td>\n",
       "      <td>42.0</td>\n",
       "      <td>Steel</td>\n",
       "      <td>Automatic</td>\n",
       "      <td>4</td>\n",
       "      <td>3</td>\n",
       "      <td>0</td>\n",
       "      <td>1</td>\n",
       "      <td>12339.683935</td>\n",
       "      <td>9158.035018</td>\n",
       "    </tr>\n",
       "    <tr>\n",
       "      <th>...</th>\n",
       "      <td>...</td>\n",
       "      <td>...</td>\n",
       "      <td>...</td>\n",
       "      <td>...</td>\n",
       "      <td>...</td>\n",
       "      <td>...</td>\n",
       "      <td>...</td>\n",
       "      <td>...</td>\n",
       "      <td>...</td>\n",
       "      <td>...</td>\n",
       "    </tr>\n",
       "    <tr>\n",
       "      <th>386846</th>\n",
       "      <td>2025.0</td>\n",
       "      <td>42.0</td>\n",
       "      <td>White gold</td>\n",
       "      <td>Manual winding</td>\n",
       "      <td>3</td>\n",
       "      <td>1</td>\n",
       "      <td>0</td>\n",
       "      <td>0</td>\n",
       "      <td>20145.521739</td>\n",
       "      <td>13525.314940</td>\n",
       "    </tr>\n",
       "    <tr>\n",
       "      <th>386847</th>\n",
       "      <td>2025.0</td>\n",
       "      <td>43.5</td>\n",
       "      <td>Steel</td>\n",
       "      <td>Automatic</td>\n",
       "      <td>3</td>\n",
       "      <td>1</td>\n",
       "      <td>0</td>\n",
       "      <td>0</td>\n",
       "      <td>2160.229672</td>\n",
       "      <td>2135.152914</td>\n",
       "    </tr>\n",
       "    <tr>\n",
       "      <th>386848</th>\n",
       "      <td>2025.0</td>\n",
       "      <td>38.0</td>\n",
       "      <td>Ceramic</td>\n",
       "      <td>Automatic</td>\n",
       "      <td>3</td>\n",
       "      <td>1</td>\n",
       "      <td>0</td>\n",
       "      <td>0</td>\n",
       "      <td>1875.225131</td>\n",
       "      <td>1885.594051</td>\n",
       "    </tr>\n",
       "    <tr>\n",
       "      <th>386849</th>\n",
       "      <td>2025.0</td>\n",
       "      <td>43.5</td>\n",
       "      <td>Steel</td>\n",
       "      <td>Automatic</td>\n",
       "      <td>3</td>\n",
       "      <td>1</td>\n",
       "      <td>0</td>\n",
       "      <td>0</td>\n",
       "      <td>2160.229672</td>\n",
       "      <td>2135.152914</td>\n",
       "    </tr>\n",
       "    <tr>\n",
       "      <th>386850</th>\n",
       "      <td>2024.0</td>\n",
       "      <td>41.0</td>\n",
       "      <td>Gold/Steel</td>\n",
       "      <td>Automatic</td>\n",
       "      <td>3</td>\n",
       "      <td>1</td>\n",
       "      <td>0</td>\n",
       "      <td>1</td>\n",
       "      <td>14844.861083</td>\n",
       "      <td>23870.639668</td>\n",
       "    </tr>\n",
       "  </tbody>\n",
       "</table>\n",
       "<p>386438 rows × 10 columns</p>\n",
       "</div>"
      ]
     },
     "execution_count": 6,
     "metadata": {},
     "output_type": "execute_result"
    }
   ],
   "execution_count": 6
  },
  {
   "metadata": {
    "ExecuteTime": {
     "end_time": "2025-04-03T23:32:20.322410Z",
     "start_time": "2025-04-03T23:32:20.252169Z"
    }
   },
   "cell_type": "code",
   "source": [
    "import seaborn as sns\n",
    "import matplotlib.pyplot as plt\n",
    "\n",
    "# Set the figure size\n",
    "plt.figure(figsize=(12, 6))\n",
    "y.hist(bins=30, alpha=0.5, color='blue', label='Price Distribution')"
   ],
   "id": "d9928a3e4785344e",
   "outputs": [
    {
     "data": {
      "text/plain": [
       "<Axes: >"
      ]
     },
     "execution_count": 7,
     "metadata": {},
     "output_type": "execute_result"
    },
    {
     "data": {
      "text/plain": [
       "<Figure size 1200x600 with 1 Axes>"
      ],
      "image/png": "[encoded data removed]"
     },
     "metadata": {},
     "output_type": "display_data"
    }
   ],
   "execution_count": 7
  },
  {
   "metadata": {
    "ExecuteTime": {
     "end_time": "2025-04-03T23:32:20.343395Z",
     "start_time": "2025-04-03T23:32:20.340432Z"
    }
   },
   "cell_type": "code",
   "source": "print(len(df[df[\"price\"] > 200000]))",
   "id": "63592f98b08c3720",
   "outputs": [
    {
     "name": "stdout",
     "output_type": "stream",
     "text": [
      "2303\n"
     ]
    }
   ],
   "execution_count": 8
  },
  {
   "metadata": {
    "ExecuteTime": {
     "end_time": "2025-04-03T23:32:20.356426Z",
     "start_time": "2025-04-03T23:32:20.354058Z"
    }
   },
   "cell_type": "code",
   "source": "print(2701/len(df)*100)",
   "id": "d8ce70b653be124c",
   "outputs": [
    {
     "name": "stdout",
     "output_type": "stream",
     "text": [
      "0.6989478260419524\n"
     ]
    }
   ],
   "execution_count": 9
  },
  {
   "metadata": {
    "ExecuteTime": {
     "end_time": "2025-04-03T23:32:20.376934Z",
     "start_time": "2025-04-03T23:32:20.375583Z"
    }
   },
   "cell_type": "code",
   "source": "",
   "id": "132e851711b16689",
   "outputs": [],
   "execution_count": null
  },
  {
   "metadata": {
    "ExecuteTime": {
     "end_time": "2025-04-03T23:32:20.384738Z",
     "start_time": "2025-04-03T23:32:20.383568Z"
    }
   },
   "cell_type": "code",
   "source": "",
   "id": "fa4e016991a68e5c",
   "outputs": [],
   "execution_count": null
  },
  {
   "metadata": {
    "ExecuteTime": {
     "end_time": "2025-04-03T23:32:20.391751Z",
     "start_time": "2025-04-03T23:32:20.390474Z"
    }
   },
   "cell_type": "code",
   "source": "",
   "id": "e863dbacfda437a9",
   "outputs": [],
   "execution_count": null
  },
  {
   "metadata": {
    "ExecuteTime": {
     "end_time": "2025-04-03T23:32:20.400945Z",
     "start_time": "2025-04-03T23:32:20.399695Z"
    }
   },
   "cell_type": "code",
   "source": "",
   "id": "f64f9f8d2c816986",
   "outputs": [],
   "execution_count": null
  },
  {
   "metadata": {
    "ExecuteTime": {
     "end_time": "2025-04-03T23:32:20.408546Z",
     "start_time": "2025-04-03T23:32:20.407280Z"
    }
   },
   "cell_type": "code",
   "source": "",
   "id": "ff40fd8f7df35ea0",
   "outputs": [],
   "execution_count": null
  },
  {
   "metadata": {
    "ExecuteTime": {
     "end_time": "2025-04-03T23:32:20.421264Z",
     "start_time": "2025-04-03T23:32:20.420174Z"
    }
   },
   "cell_type": "code",
   "source": "",
   "id": "faf1746d800d8f0",
   "outputs": [],
   "execution_count": null
  },
  {
   "metadata": {
    "ExecuteTime": {
     "end_time": "2025-04-03T23:32:20.430200Z",
     "start_time": "2025-04-03T23:32:20.428988Z"
    }
   },
   "cell_type": "code",
   "source": "",
   "id": "166ad68706527d1d",
   "outputs": [],
   "execution_count": null
  }
 ],
 "metadata": {
  "kernelspec": {
   "display_name": "Python 3",
   "language": "python",
   "name": "python3"
  },
  "language_info": {
   "codemirror_mode": {
    "name": "ipython",
    "version": 2
   },
   "file_extension": ".py",
   "mimetype": "text/x-python",
   "name": "python",
   "nbconvert_exporter": "python",
   "pygments_lexer": "ipython2",
   "version": "2.7.6"
  }
 },
 "nbformat": 4,
 "nbformat_minor": 5
}
