{
 "cells": [
  {
   "cell_type": "code",
   "id": "initial_id",
   "metadata": {
    "collapsed": true,
    "ExecuteTime": {
     "end_time": "2025-04-03T23:31:51.101827Z",
     "start_time": "2025-04-03T23:31:51.099979Z"
    }
   },
   "source": [
    "import pandas as pd\n",
    "import numpy as np\n",
    "import matplotlib.pyplot as plt\n",
    "import seaborn as sns\n"
   ],
   "outputs": [],
   "execution_count": 1
  },
  {
   "metadata": {
    "ExecuteTime": {
     "end_time": "2025-04-03T23:31:52.089131Z",
     "start_time": "2025-04-03T23:31:51.115288Z"
    }
   },
   "cell_type": "code",
   "source": "df = pd.read_csv(\"../resources/cleaned_watches_data_fixed.csv\")\n",
   "id": "386b6283ffde4b9a",
   "outputs": [],
   "execution_count": 2
  },
  {
   "metadata": {
    "ExecuteTime": {
     "end_time": "2025-04-03T23:31:52.191255Z",
     "start_time": "2025-04-03T23:31:52.183309Z"
    }
   },
   "cell_type": "code",
   "source": "df\n",
   "id": "6bd4144bf77d80e4",
   "outputs": [
    {
     "data": {
      "text/plain": [
       "                     brand                               model  \\\n",
       "0                    Rolex                         Datejust 41   \n",
       "1                    Rolex                         Datejust 36   \n",
       "2                    Omega  Speedmaster Professional Moonwatch   \n",
       "3                    Tudor                       Grantour Date   \n",
       "4                  Panerai                         Submersible   \n",
       "...                    ...                                 ...   \n",
       "386846  Glashütte Original                 Senator Chronometer   \n",
       "386847                Oris                          Aquis Date   \n",
       "386848                Rado                                True   \n",
       "386849                Oris                          Aquis Date   \n",
       "386850               Rolex                         Datejust 41   \n",
       "\n",
       "                                                  details    price currency  \\\n",
       "0       126331 41mm Two Tone Chocolate Diamond Dial Ju...  19995.0        $   \n",
       "1       In Stock 2024 Datejust 36 Blue Index Dial 1262...   8395.0        $   \n",
       "2                          2025 New Speedmaster Moonwatch   5500.0        $   \n",
       "3       Pre-Owned Grantour Date 20500N White with box ...   2190.0        $   \n",
       "4       300M Grey Blue Ceramic Bezel Rubber Strap Pam9...   5895.0        $   \n",
       "...                                                   ...      ...      ...   \n",
       "386846                                   1-58-01-05-34-01  24166.0        $   \n",
       "386847                     01 733 7789 4154-07 8 23 04PEB   2051.0        $   \n",
       "386848                                   Square Automatic   2034.0        $   \n",
       "386849                     01 733 7789 4157-07 8 23 04PEB   2084.0        $   \n",
       "386850                               WIMBLEDON NEW/UNWORN  17400.0        $   \n",
       "\n",
       "       shipping_cost        movement case_material year_of_production  \\\n",
       "0                500       Automatic    Gold/Steel               2024   \n",
       "1                175       Automatic         Steel               2024   \n",
       "2                 99  Manual winding         Steel               2025   \n",
       "3                  0       Automatic         Steel               2012   \n",
       "4                239       Automatic         Steel               2019   \n",
       "...              ...             ...           ...                ...   \n",
       "386846           776  Manual winding    White gold               2025   \n",
       "386847           100       Automatic         Steel               2025   \n",
       "386848           100       Automatic       Ceramic               2025   \n",
       "386849           100       Automatic         Steel               2025   \n",
       "386850           250       Automatic    Gold/Steel               2024   \n",
       "\n",
       "                condition                reference_number  \\\n",
       "0       Like new & unworn                          126331   \n",
       "1               Very good                          126200   \n",
       "2                     New             310.30.42.50.01.001   \n",
       "3               Very good                          20500N   \n",
       "4                    Good                       PAM 00959   \n",
       "...                   ...                             ...   \n",
       "386846                New                1-58-01-05-34-01   \n",
       "386847                New  01 733 7789 4154-07 8 23 04PEB   \n",
       "386848                New                       R27077102   \n",
       "386849                New  01 733 7789 4157-07 8 23 04PEB   \n",
       "386850                New                          126333   \n",
       "\n",
       "                       scope_of_delivery  \\\n",
       "0          Original box, original papers   \n",
       "1          Original box, original papers   \n",
       "2          Original box, original papers   \n",
       "3          Original box, original papers   \n",
       "4       Original box, no original papers   \n",
       "...                                  ...   \n",
       "386846     Original box, original papers   \n",
       "386847     Original box, original papers   \n",
       "386848     Original box, original papers   \n",
       "386849     Original box, original papers   \n",
       "386850     Original box, original papers   \n",
       "\n",
       "                                                 location  case_diameter  \\\n",
       "0            United States of America, New York, Brooklyn           41.0   \n",
       "1       United States of America, Florida, Fort Lauder...           36.0   \n",
       "2                   United States of America, Los Angeles           42.0   \n",
       "3         United States of America, California, San Diego           42.0   \n",
       "4          United States of America, Wisconsin, Jefferson           42.0   \n",
       "...                                                   ...            ...   \n",
       "386846                                 Germany, Schwabach           42.0   \n",
       "386847                                 Germany, Schwabach           43.5   \n",
       "386848                                 Germany, Schwabach           38.0   \n",
       "386849                                 Germany, Schwabach           43.5   \n",
       "386850  United States of America, California, Beverly ...           41.0   \n",
       "\n",
       "                                              product_url      dealer_city  \\\n",
       "0       https://www.chrono24.com/rolex/rolex-datejust-...         Brooklyn   \n",
       "1       https://www.chrono24.com/rolex/in-stock-2024-d...  Fort Lauderdale   \n",
       "2       https://www.chrono24.com/omega/2025-new-speedm...      Los Angeles   \n",
       "3       https://www.chrono24.com/tudor/tudor-pre-owned...    Tsim Sha Tsui   \n",
       "4       https://www.chrono24.com/panerai/panerai-subme...        Jefferson   \n",
       "...                                                   ...              ...   \n",
       "386846  https://www.chrono24.com/glashuetteoriginal/se...        Schwabach   \n",
       "386847  https://www.chrono24.com/oris/aquis-date--id34...        Schwabach   \n",
       "386848  https://www.chrono24.com/rado/true-square-auto...        Schwabach   \n",
       "386849  https://www.chrono24.com/oris/aquis-date--id35...        Schwabach   \n",
       "386850  https://www.chrono24.com/rolex/rolex-datejust-...      Los Angeles   \n",
       "\n",
       "                   dealer_country country_code  \n",
       "0       United States of America.           US  \n",
       "1       United States of America.           US  \n",
       "2       United States of America.           US  \n",
       "3                      Hong Kong.           HK  \n",
       "4       United States of America.           US  \n",
       "...                           ...          ...  \n",
       "386846                   Germany.           DE  \n",
       "386847                   Germany.           DE  \n",
       "386848                   Germany.           DE  \n",
       "386849                   Germany.           DE  \n",
       "386850  United States of America.           US  \n",
       "\n",
       "[386851 rows x 18 columns]"
      ],
      "text/html": [
       "<div>\n",
       "<style scoped>\n",
       "    .dataframe tbody tr th:only-of-type {\n",
       "        vertical-align: middle;\n",
       "    }\n",
       "\n",
       "    .dataframe tbody tr th {\n",
       "        vertical-align: top;\n",
       "    }\n",
       "\n",
       "    .dataframe thead th {\n",
       "        text-align: right;\n",
       "    }\n",
       "</style>\n",
       "<table border=\"1\" class=\"dataframe\">\n",
       "  <thead>\n",
       "    <tr style=\"text-align: right;\">\n",
       "      <th></th>\n",
       "      <th>brand</th>\n",
       "      <th>model</th>\n",
       "      <th>details</th>\n",
       "      <th>price</th>\n",
       "      <th>currency</th>\n",
       "      <th>shipping_cost</th>\n",
       "      <th>movement</th>\n",
       "      <th>case_material</th>\n",
       "      <th>year_of_production</th>\n",
       "      <th>condition</th>\n",
       "      <th>reference_number</th>\n",
       "      <th>scope_of_delivery</th>\n",
       "      <th>location</th>\n",
       "      <th>case_diameter</th>\n",
       "      <th>product_url</th>\n",
       "      <th>dealer_city</th>\n",
       "      <th>dealer_country</th>\n",
       "      <th>country_code</th>\n",
       "    </tr>\n",
       "  </thead>\n",
       "  <tbody>\n",
       "    <tr>\n",
       "      <th>0</th>\n",
       "      <td>Rolex</td>\n",
       "      <td>Datejust 41</td>\n",
       "      <td>126331 41mm Two Tone Chocolate Diamond Dial Ju...</td>\n",
       "      <td>19995.0</td>\n",
       "      <td>$</td>\n",
       "      <td>500</td>\n",
       "      <td>Automatic</td>\n",
       "      <td>Gold/Steel</td>\n",
       "      <td>2024</td>\n",
       "      <td>Like new &amp; unworn</td>\n",
       "      <td>126331</td>\n",
       "      <td>Original box, original papers</td>\n",
       "      <td>United States of America, New York, Brooklyn</td>\n",
       "      <td>41.0</td>\n",
       "      <td>https://www.chrono24.com/rolex/rolex-datejust-...</td>\n",
       "      <td>Brooklyn</td>\n",
       "      <td>United States of America.</td>\n",
       "      <td>US</td>\n",
       "    </tr>\n",
       "    <tr>\n",
       "      <th>1</th>\n",
       "      <td>Rolex</td>\n",
       "      <td>Datejust 36</td>\n",
       "      <td>In Stock 2024 Datejust 36 Blue Index Dial 1262...</td>\n",
       "      <td>8395.0</td>\n",
       "      <td>$</td>\n",
       "      <td>175</td>\n",
       "      <td>Automatic</td>\n",
       "      <td>Steel</td>\n",
       "      <td>2024</td>\n",
       "      <td>Very good</td>\n",
       "      <td>126200</td>\n",
       "      <td>Original box, original papers</td>\n",
       "      <td>United States of America, Florida, Fort Lauder...</td>\n",
       "      <td>36.0</td>\n",
       "      <td>https://www.chrono24.com/rolex/in-stock-2024-d...</td>\n",
       "      <td>Fort Lauderdale</td>\n",
       "      <td>United States of America.</td>\n",
       "      <td>US</td>\n",
       "    </tr>\n",
       "    <tr>\n",
       "      <th>2</th>\n",
       "      <td>Omega</td>\n",
       "      <td>Speedmaster Professional Moonwatch</td>\n",
       "      <td>2025 New Speedmaster Moonwatch</td>\n",
       "      <td>5500.0</td>\n",
       "      <td>$</td>\n",
       "      <td>99</td>\n",
       "      <td>Manual winding</td>\n",
       "      <td>Steel</td>\n",
       "      <td>2025</td>\n",
       "      <td>New</td>\n",
       "      <td>310.30.42.50.01.001</td>\n",
       "      <td>Original box, original papers</td>\n",
       "      <td>United States of America, Los Angeles</td>\n",
       "      <td>42.0</td>\n",
       "      <td>https://www.chrono24.com/omega/2025-new-speedm...</td>\n",
       "      <td>Los Angeles</td>\n",
       "      <td>United States of America.</td>\n",
       "      <td>US</td>\n",
       "    </tr>\n",
       "    <tr>\n",
       "      <th>3</th>\n",
       "      <td>Tudor</td>\n",
       "      <td>Grantour Date</td>\n",
       "      <td>Pre-Owned Grantour Date 20500N White with box ...</td>\n",
       "      <td>2190.0</td>\n",
       "      <td>$</td>\n",
       "      <td>0</td>\n",
       "      <td>Automatic</td>\n",
       "      <td>Steel</td>\n",
       "      <td>2012</td>\n",
       "      <td>Very good</td>\n",
       "      <td>20500N</td>\n",
       "      <td>Original box, original papers</td>\n",
       "      <td>United States of America, California, San Diego</td>\n",
       "      <td>42.0</td>\n",
       "      <td>https://www.chrono24.com/tudor/tudor-pre-owned...</td>\n",
       "      <td>Tsim Sha Tsui</td>\n",
       "      <td>Hong Kong.</td>\n",
       "      <td>HK</td>\n",
       "    </tr>\n",
       "    <tr>\n",
       "      <th>4</th>\n",
       "      <td>Panerai</td>\n",
       "      <td>Submersible</td>\n",
       "      <td>300M Grey Blue Ceramic Bezel Rubber Strap Pam9...</td>\n",
       "      <td>5895.0</td>\n",
       "      <td>$</td>\n",
       "      <td>239</td>\n",
       "      <td>Automatic</td>\n",
       "      <td>Steel</td>\n",
       "      <td>2019</td>\n",
       "      <td>Good</td>\n",
       "      <td>PAM 00959</td>\n",
       "      <td>Original box, no original papers</td>\n",
       "      <td>United States of America, Wisconsin, Jefferson</td>\n",
       "      <td>42.0</td>\n",
       "      <td>https://www.chrono24.com/panerai/panerai-subme...</td>\n",
       "      <td>Jefferson</td>\n",
       "      <td>United States of America.</td>\n",
       "      <td>US</td>\n",
       "    </tr>\n",
       "    <tr>\n",
       "      <th>...</th>\n",
       "      <td>...</td>\n",
       "      <td>...</td>\n",
       "      <td>...</td>\n",
       "      <td>...</td>\n",
       "      <td>...</td>\n",
       "      <td>...</td>\n",
       "      <td>...</td>\n",
       "      <td>...</td>\n",
       "      <td>...</td>\n",
       "      <td>...</td>\n",
       "      <td>...</td>\n",
       "      <td>...</td>\n",
       "      <td>...</td>\n",
       "      <td>...</td>\n",
       "      <td>...</td>\n",
       "      <td>...</td>\n",
       "      <td>...</td>\n",
       "      <td>...</td>\n",
       "    </tr>\n",
       "    <tr>\n",
       "      <th>386846</th>\n",
       "      <td>Glashütte Original</td>\n",
       "      <td>Senator Chronometer</td>\n",
       "      <td>1-58-01-05-34-01</td>\n",
       "      <td>24166.0</td>\n",
       "      <td>$</td>\n",
       "      <td>776</td>\n",
       "      <td>Manual winding</td>\n",
       "      <td>White gold</td>\n",
       "      <td>2025</td>\n",
       "      <td>New</td>\n",
       "      <td>1-58-01-05-34-01</td>\n",
       "      <td>Original box, original papers</td>\n",
       "      <td>Germany, Schwabach</td>\n",
       "      <td>42.0</td>\n",
       "      <td>https://www.chrono24.com/glashuetteoriginal/se...</td>\n",
       "      <td>Schwabach</td>\n",
       "      <td>Germany.</td>\n",
       "      <td>DE</td>\n",
       "    </tr>\n",
       "    <tr>\n",
       "      <th>386847</th>\n",
       "      <td>Oris</td>\n",
       "      <td>Aquis Date</td>\n",
       "      <td>01 733 7789 4154-07 8 23 04PEB</td>\n",
       "      <td>2051.0</td>\n",
       "      <td>$</td>\n",
       "      <td>100</td>\n",
       "      <td>Automatic</td>\n",
       "      <td>Steel</td>\n",
       "      <td>2025</td>\n",
       "      <td>New</td>\n",
       "      <td>01 733 7789 4154-07 8 23 04PEB</td>\n",
       "      <td>Original box, original papers</td>\n",
       "      <td>Germany, Schwabach</td>\n",
       "      <td>43.5</td>\n",
       "      <td>https://www.chrono24.com/oris/aquis-date--id34...</td>\n",
       "      <td>Schwabach</td>\n",
       "      <td>Germany.</td>\n",
       "      <td>DE</td>\n",
       "    </tr>\n",
       "    <tr>\n",
       "      <th>386848</th>\n",
       "      <td>Rado</td>\n",
       "      <td>True</td>\n",
       "      <td>Square Automatic</td>\n",
       "      <td>2034.0</td>\n",
       "      <td>$</td>\n",
       "      <td>100</td>\n",
       "      <td>Automatic</td>\n",
       "      <td>Ceramic</td>\n",
       "      <td>2025</td>\n",
       "      <td>New</td>\n",
       "      <td>R27077102</td>\n",
       "      <td>Original box, original papers</td>\n",
       "      <td>Germany, Schwabach</td>\n",
       "      <td>38.0</td>\n",
       "      <td>https://www.chrono24.com/rado/true-square-auto...</td>\n",
       "      <td>Schwabach</td>\n",
       "      <td>Germany.</td>\n",
       "      <td>DE</td>\n",
       "    </tr>\n",
       "    <tr>\n",
       "      <th>386849</th>\n",
       "      <td>Oris</td>\n",
       "      <td>Aquis Date</td>\n",
       "      <td>01 733 7789 4157-07 8 23 04PEB</td>\n",
       "      <td>2084.0</td>\n",
       "      <td>$</td>\n",
       "      <td>100</td>\n",
       "      <td>Automatic</td>\n",
       "      <td>Steel</td>\n",
       "      <td>2025</td>\n",
       "      <td>New</td>\n",
       "      <td>01 733 7789 4157-07 8 23 04PEB</td>\n",
       "      <td>Original box, original papers</td>\n",
       "      <td>Germany, Schwabach</td>\n",
       "      <td>43.5</td>\n",
       "      <td>https://www.chrono24.com/oris/aquis-date--id35...</td>\n",
       "      <td>Schwabach</td>\n",
       "      <td>Germany.</td>\n",
       "      <td>DE</td>\n",
       "    </tr>\n",
       "    <tr>\n",
       "      <th>386850</th>\n",
       "      <td>Rolex</td>\n",
       "      <td>Datejust 41</td>\n",
       "      <td>WIMBLEDON NEW/UNWORN</td>\n",
       "      <td>17400.0</td>\n",
       "      <td>$</td>\n",
       "      <td>250</td>\n",
       "      <td>Automatic</td>\n",
       "      <td>Gold/Steel</td>\n",
       "      <td>2024</td>\n",
       "      <td>New</td>\n",
       "      <td>126333</td>\n",
       "      <td>Original box, original papers</td>\n",
       "      <td>United States of America, California, Beverly ...</td>\n",
       "      <td>41.0</td>\n",
       "      <td>https://www.chrono24.com/rolex/rolex-datejust-...</td>\n",
       "      <td>Los Angeles</td>\n",
       "      <td>United States of America.</td>\n",
       "      <td>US</td>\n",
       "    </tr>\n",
       "  </tbody>\n",
       "</table>\n",
       "<p>386851 rows × 18 columns</p>\n",
       "</div>"
      ]
     },
     "execution_count": 3,
     "metadata": {},
     "output_type": "execute_result"
    }
   ],
   "execution_count": 3
  },
  {
   "metadata": {
    "ExecuteTime": {
     "end_time": "2025-04-03T23:31:52.399217Z",
     "start_time": "2025-04-03T23:31:52.260698Z"
    }
   },
   "cell_type": "code",
   "source": "df.info()\n",
   "id": "59128a13303a46ec",
   "outputs": [
    {
     "name": "stdout",
     "output_type": "stream",
     "text": [
      "<class 'pandas.core.frame.DataFrame'>\n",
      "RangeIndex: 386851 entries, 0 to 386850\n",
      "Data columns (total 18 columns):\n",
      " #   Column              Non-Null Count   Dtype  \n",
      "---  ------              --------------   -----  \n",
      " 0   brand               386851 non-null  object \n",
      " 1   model               386851 non-null  object \n",
      " 2   details             385085 non-null  object \n",
      " 3   price               386851 non-null  float64\n",
      " 4   currency            386851 non-null  object \n",
      " 5   shipping_cost       386851 non-null  object \n",
      " 6   movement            386851 non-null  object \n",
      " 7   case_material       386851 non-null  object \n",
      " 8   year_of_production  386851 non-null  object \n",
      " 9   condition           386851 non-null  object \n",
      " 10  reference_number    386808 non-null  object \n",
      " 11  scope_of_delivery   386851 non-null  object \n",
      " 12  location            386851 non-null  object \n",
      " 13  case_diameter       386851 non-null  float64\n",
      " 14  product_url         386851 non-null  object \n",
      " 15  dealer_city         319819 non-null  object \n",
      " 16  dealer_country      320185 non-null  object \n",
      " 17  country_code        386851 non-null  object \n",
      "dtypes: float64(2), object(16)\n",
      "memory usage: 53.1+ MB\n"
     ]
    }
   ],
   "execution_count": 4
  },
  {
   "metadata": {
    "ExecuteTime": {
     "end_time": "2025-04-03T23:31:52.433782Z",
     "start_time": "2025-04-03T23:31:52.422030Z"
    }
   },
   "cell_type": "code",
   "source": "print(df[\"currency\"].nunique())\n",
   "id": "640f1993691af4a8",
   "outputs": [
    {
     "name": "stdout",
     "output_type": "stream",
     "text": [
      "1\n"
     ]
    }
   ],
   "execution_count": 5
  },
  {
   "metadata": {
    "ExecuteTime": {
     "end_time": "2025-04-03T23:31:52.572778Z",
     "start_time": "2025-04-03T23:31:52.485009Z"
    }
   },
   "cell_type": "code",
   "source": [
    "from main import prepare_model_features\n",
    "feature_df = prepare_model_features(df)\n",
    "feature_df.info()\n",
    "\n"
   ],
   "id": "82a620fbe56c80af",
   "outputs": [
    {
     "name": "stdout",
     "output_type": "stream",
     "text": [
      "<class 'pandas.core.frame.DataFrame'>\n",
      "RangeIndex: 386851 entries, 0 to 386850\n",
      "Data columns (total 10 columns):\n",
      " #   Column              Non-Null Count   Dtype  \n",
      "---  ------              --------------   -----  \n",
      " 0   brand               386851 non-null  object \n",
      " 1   model               386851 non-null  object \n",
      " 2   price               386851 non-null  float64\n",
      " 3   movement            386851 non-null  object \n",
      " 4   case_material       386851 non-null  object \n",
      " 5   year_of_production  386851 non-null  object \n",
      " 6   condition           386851 non-null  object \n",
      " 7   scope_of_delivery   386851 non-null  object \n",
      " 8   case_diameter       386851 non-null  float64\n",
      " 9   country_code        386851 non-null  object \n",
      "dtypes: float64(2), object(8)\n",
      "memory usage: 29.5+ MB\n"
     ]
    }
   ],
   "execution_count": 6
  },
  {
   "metadata": {
    "ExecuteTime": {
     "end_time": "2025-04-03T23:31:53.281465Z",
     "start_time": "2025-04-03T23:31:52.583306Z"
    }
   },
   "cell_type": "code",
   "source": [
    "plt.figure(figsize=(10, 6))\n",
    "sns.scatterplot(data=feature_df, x=\"brand\", y=\"price\")\n",
    "plt.xticks(rotation=90)\n",
    "plt.xlabel(\"Brand\")\n"
   ],
   "id": "ae17f81bf24527f0",
   "outputs": [
    {
     "data": {
      "text/plain": [
       "Text(0.5, 0, 'Brand')"
      ]
     },
     "execution_count": 7,
     "metadata": {},
     "output_type": "execute_result"
    },
    {
     "data": {
      "text/plain": [
       "<Figure size 1000x600 with 1 Axes>"
      ],
      "image/png": "[encoded data removed]"
     },
     "metadata": {},
     "output_type": "display_data"
    }
   ],
   "execution_count": 7
  },
  {
   "metadata": {
    "ExecuteTime": {
     "end_time": "2025-04-03T23:31:54.198894Z",
     "start_time": "2025-04-03T23:31:53.288865Z"
    }
   },
   "cell_type": "code",
   "source": [
    "# plot the price distribution according to the year of production, show only the decades\n",
    "sorted_years_df = feature_df.sort_values(\"year_of_production\", inplace=False)\n",
    "plt.figure(figsize=(10, 6))\n",
    "sns.scatterplot(data=sorted_years_df, x=\"year_of_production\", y=\"price\")\n",
    "plt.xticks(rotation=90, fontsize=4)\n",
    "plt.xlabel(\"Year of Production\")\n",
    "plt.title(\"Price Distribution by Year of Production\")\n",
    "\n"
   ],
   "id": "2f49d325a30f12f4",
   "outputs": [
    {
     "data": {
      "text/plain": [
       "Text(0.5, 1.0, 'Price Distribution by Year of Production')"
      ]
     },
     "execution_count": 8,
     "metadata": {},
     "output_type": "execute_result"
    },
    {
     "data": {
      "text/plain": [
       "<Figure size 1000x600 with 1 Axes>"
      ],
      "image/png": "[encoded data removed]"
     },
     "metadata": {},
     "output_type": "display_data"
    }
   ],
   "execution_count": 8
  },
  {
   "metadata": {
    "ExecuteTime": {
     "end_time": "2025-04-03T23:31:54.209190Z",
     "start_time": "2025-04-03T23:31:54.207734Z"
    }
   },
   "cell_type": "code",
   "source": "",
   "id": "c6a2f1f7fc13f912",
   "outputs": [],
   "execution_count": null
  },
  {
   "metadata": {
    "ExecuteTime": {
     "end_time": "2025-04-03T23:31:54.275048Z",
     "start_time": "2025-04-03T23:31:54.217010Z"
    }
   },
   "cell_type": "code",
   "source": [
    "feature_df.info()\n",
    "\n"
   ],
   "id": "d2e40c7bdbfefee9",
   "outputs": [
    {
     "name": "stdout",
     "output_type": "stream",
     "text": [
      "<class 'pandas.core.frame.DataFrame'>\n",
      "RangeIndex: 386851 entries, 0 to 386850\n",
      "Data columns (total 10 columns):\n",
      " #   Column              Non-Null Count   Dtype  \n",
      "---  ------              --------------   -----  \n",
      " 0   brand               386851 non-null  object \n",
      " 1   model               386851 non-null  object \n",
      " 2   price               386851 non-null  float64\n",
      " 3   movement            386851 non-null  object \n",
      " 4   case_material       386851 non-null  object \n",
      " 5   year_of_production  386851 non-null  object \n",
      " 6   condition           386851 non-null  object \n",
      " 7   scope_of_delivery   386851 non-null  object \n",
      " 8   case_diameter       386851 non-null  float64\n",
      " 9   country_code        386851 non-null  object \n",
      "dtypes: float64(2), object(8)\n",
      "memory usage: 29.5+ MB\n"
     ]
    }
   ],
   "execution_count": 9
  },
  {
   "metadata": {
    "ExecuteTime": {
     "end_time": "2025-04-03T23:31:54.293855Z",
     "start_time": "2025-04-03T23:31:54.282797Z"
    }
   },
   "cell_type": "code",
   "source": "feature_df[\"year_of_production\"].unique()\n",
   "id": "e8275fcb5ad0ded5",
   "outputs": [
    {
     "data": {
      "text/plain": [
       "array(['2024', '2025', '2012', '2019', '1994', '1991', '2022', '1981',\n",
       "       '-', '1989', '2023', '2013', '2021', '1985', '2018', '1950',\n",
       "       '2007', '2020', '2017', '2014', '2008', '2011', '2015', '2000',\n",
       "       '1997', '2016', '1970', '1963', '1980', '1999', '2005', '1996',\n",
       "       '1990', '2006', '2010', '2002', '2009', '1998', '1995', '2003',\n",
       "       '1956', '2001', '1967', '1986', '1973', '1988', '1969', '1979',\n",
       "       '1978', '2004', '1987', '1984', '1961', '1940', '1982', '1955',\n",
       "       '1974', '1992', '1993', '1966', '1962', '1983', '1947', '1938',\n",
       "       '1977', '1964', '1972', '1951', '1960', '1959', '1965', '1975',\n",
       "       '1958', '1968', '1943', '1954', '1976', '1906', '1910', '1891',\n",
       "       '1952', '1935', '1971', '1945', '1957', '1948', '1939', '1946',\n",
       "       '1953', '1920', '1937', '1905', '1912', '1900', '1904', '1908',\n",
       "       '1930', '1913', '1890', '1924', '1944', '1929', '1927', '1914',\n",
       "       '1925', '1949', '1919', '1915', '1941', '1897', '1942', '1911',\n",
       "       '1928', '1909', '1881', '1934', '2026', '1932', '1936', '1922',\n",
       "       '1918', '1926', '1889', '1698', '1917', '1729', '1880', '1670',\n",
       "       '1933', '1884', '1899', '1901', '1921', '1916', '1882', '1923',\n",
       "       '1893', '1907', '1903', '1931', '1902', '1878', '1887', '1895',\n",
       "       '1877', '1860', '1800', '1876', '1580', '1858', '1697', '1892',\n",
       "       '1883', '1888', '1870', '1859', '1868', '1850'], dtype=object)"
      ]
     },
     "execution_count": 10,
     "metadata": {},
     "output_type": "execute_result"
    }
   ],
   "execution_count": 10
  },
  {
   "metadata": {
    "ExecuteTime": {
     "end_time": "2025-04-03T23:31:55.440056Z",
     "start_time": "2025-04-03T23:31:54.302356Z"
    }
   },
   "cell_type": "code",
   "source": [
    "from main import get_model_df\n",
    "exmpl_df = get_model_df()\n",
    "exmpl_df.info()\n"
   ],
   "id": "ecf3b96b323a0209",
   "outputs": [
    {
     "name": "stdout",
     "output_type": "stream",
     "text": [
      "<class 'pandas.core.frame.DataFrame'>\n",
      "Index: 386836 entries, 0 to 386850\n",
      "Data columns (total 11 columns):\n",
      " #   Column              Non-Null Count   Dtype  \n",
      "---  ------              --------------   -----  \n",
      " 0   brand               386836 non-null  object \n",
      " 1   model               386836 non-null  object \n",
      " 2   price               386836 non-null  float64\n",
      " 3   movement            386836 non-null  object \n",
      " 4   case_material       386836 non-null  object \n",
      " 5   year_of_production  386836 non-null  float64\n",
      " 6   condition           386836 non-null  int64  \n",
      " 7   scope_of_delivery   386836 non-null  int64  \n",
      " 8   case_diameter       386836 non-null  float64\n",
      " 9   country_code        386836 non-null  object \n",
      " 10  year_unknown        386836 non-null  int64  \n",
      "dtypes: float64(3), int64(3), object(5)\n",
      "memory usage: 35.4+ MB\n"
     ]
    }
   ],
   "execution_count": 11
  },
  {
   "metadata": {
    "ExecuteTime": {
     "end_time": "2025-04-03T23:31:55.452948Z",
     "start_time": "2025-04-03T23:31:55.448250Z"
    }
   },
   "cell_type": "code",
   "source": "exmpl_df[\"year_of_production\"].unique()",
   "id": "14e6f693bd75c5c5",
   "outputs": [
    {
     "data": {
      "text/plain": [
       "array([2024., 2025., 2012., 2019., 1994., 1991., 2022., 1981., 1989.,\n",
       "       2023., 2013., 2021., 1985., 2018., 1950., 2007., 2020., 2017.,\n",
       "       2014., 2008., 2011., 2015., 2000., 1997., 2016., 1970., 1963.,\n",
       "       1980., 1999., 2005., 1996., 1990., 2006., 2010., 2002., 2009.,\n",
       "       1998., 1995., 2003., 1956., 2001., 1967., 1986., 1973., 1988.,\n",
       "       1969., 1979., 1978., 2004., 1987., 1984., 1961., 1940., 1982.,\n",
       "       1955., 1974., 1992., 1993., 1966., 1962., 1983., 1947., 1938.,\n",
       "       1977., 1964., 1972., 1951., 1960., 1959., 1965., 1975., 1958.,\n",
       "       1968., 1943., 1954., 1976., 1906., 1910., 1891., 1952., 1935.,\n",
       "       1971., 1945., 1957., 1948., 1939., 1946., 1953., 1920., 1937.,\n",
       "       1905., 1912., 1900., 1904., 1908., 1930., 1913., 1890., 1924.,\n",
       "       1944., 1929., 1927., 1914., 1925., 1949., 1919., 1915., 1941.,\n",
       "       1897., 1942., 1911., 1928., 1909., 1881., 1934., 2026., 1932.,\n",
       "       1936., 1922., 1918., 1926., 1889., 1698., 1917., 1729., 1880.,\n",
       "       1670., 1933., 1884., 1899., 1901., 1921., 1916., 1882., 1923.,\n",
       "       1893., 1907., 1903., 1931., 1902., 1878., 1887., 1895., 1877.,\n",
       "       1860., 1800., 1876., 1580., 1858., 1697., 1892., 1883., 1888.,\n",
       "       1870., 1859., 1868., 1850.])"
      ]
     },
     "execution_count": 12,
     "metadata": {},
     "output_type": "execute_result"
    }
   ],
   "execution_count": 12
  },
  {
   "metadata": {
    "ExecuteTime": {
     "end_time": "2025-04-03T23:31:55.472726Z",
     "start_time": "2025-04-03T23:31:55.461434Z"
    }
   },
   "cell_type": "code",
   "source": "print(exmpl_df[\"price\"].describe())\n",
   "id": "5b5c27ef266d5cd6",
   "outputs": [
    {
     "name": "stdout",
     "output_type": "stream",
     "text": [
      "count    3.868360e+05\n",
      "mean     1.841292e+04\n",
      "std      4.614756e+04\n",
      "min      1.300000e+01\n",
      "25%      2.539000e+03\n",
      "50%      7.205000e+03\n",
      "75%      1.682025e+04\n",
      "max      2.946920e+06\n",
      "Name: price, dtype: float64\n"
     ]
    }
   ],
   "execution_count": 13
  },
  {
   "metadata": {
    "ExecuteTime": {
     "end_time": "2025-04-03T23:31:55.485435Z",
     "start_time": "2025-04-03T23:31:55.481407Z"
    }
   },
   "cell_type": "code",
   "source": [
    "highest_prices = exmpl_df[exmpl_df[\"price\"] > 3000000]\n",
    "print(highest_prices.shape)\n",
    "\n",
    "highest_prices\n"
   ],
   "id": "ad4e39d30d79c538",
   "outputs": [
    {
     "name": "stdout",
     "output_type": "stream",
     "text": [
      "(0, 11)\n"
     ]
    },
    {
     "data": {
      "text/plain": [
       "Empty DataFrame\n",
       "Columns: [brand, model, price, movement, case_material, year_of_production, condition, scope_of_delivery, case_diameter, country_code, year_unknown]\n",
       "Index: []"
      ],
      "text/html": [
       "<div>\n",
       "<style scoped>\n",
       "    .dataframe tbody tr th:only-of-type {\n",
       "        vertical-align: middle;\n",
       "    }\n",
       "\n",
       "    .dataframe tbody tr th {\n",
       "        vertical-align: top;\n",
       "    }\n",
       "\n",
       "    .dataframe thead th {\n",
       "        text-align: right;\n",
       "    }\n",
       "</style>\n",
       "<table border=\"1\" class=\"dataframe\">\n",
       "  <thead>\n",
       "    <tr style=\"text-align: right;\">\n",
       "      <th></th>\n",
       "      <th>brand</th>\n",
       "      <th>model</th>\n",
       "      <th>price</th>\n",
       "      <th>movement</th>\n",
       "      <th>case_material</th>\n",
       "      <th>year_of_production</th>\n",
       "      <th>condition</th>\n",
       "      <th>scope_of_delivery</th>\n",
       "      <th>case_diameter</th>\n",
       "      <th>country_code</th>\n",
       "      <th>year_unknown</th>\n",
       "    </tr>\n",
       "  </thead>\n",
       "  <tbody>\n",
       "  </tbody>\n",
       "</table>\n",
       "</div>"
      ]
     },
     "execution_count": 14,
     "metadata": {},
     "output_type": "execute_result"
    }
   ],
   "execution_count": 14
  },
  {
   "metadata": {
    "ExecuteTime": {
     "end_time": "2025-04-03T23:31:56.635755Z",
     "start_time": "2025-04-03T23:31:55.520238Z"
    }
   },
   "cell_type": "code",
   "source": [
    "# Load dataset\n",
    "df = get_model_df()\n",
    "\n",
    "# Identify categorical and numerical columns\n",
    "categorical_cols = [col for col in df.columns if df[col].dtype == 'object']\n",
    "numerical_cols = [col for col in df.columns if df[col].dtype != 'object' and col != 'price']\n",
    "\n",
    "print(numerical_cols + categorical_cols)\n"
   ],
   "id": "53c659bbe0225062",
   "outputs": [
    {
     "name": "stdout",
     "output_type": "stream",
     "text": [
      "['year_of_production', 'condition', 'scope_of_delivery', 'case_diameter', 'year_unknown', 'brand', 'model', 'movement', 'case_material', 'country_code']\n"
     ]
    }
   ],
   "execution_count": 15
  },
  {
   "metadata": {
    "ExecuteTime": {
     "end_time": "2025-04-03T23:31:56.710725Z",
     "start_time": "2025-04-03T23:31:56.639299Z"
    }
   },
   "cell_type": "code",
   "source": [
    "# Define training data\n",
    "X = df[numerical_cols + categorical_cols]\n",
    "y = df['price']\n",
    "\n",
    "for col in df.columns:\n",
    "    # Print the column type\n",
    "    print(f\"{col}: {df[col].dtype}\")\n",
    "    print(f\"{col}: {df[col].nunique()}\")\n",
    "    print(\"---------------------\")\n"
   ],
   "id": "d018c4164d111609",
   "outputs": [
    {
     "name": "stdout",
     "output_type": "stream",
     "text": [
      "brand: object\n",
      "brand: 73\n",
      "---------------------\n",
      "model: object\n",
      "model: 2673\n",
      "---------------------\n",
      "price: float64\n",
      "price: 29506\n",
      "---------------------\n",
      "movement: object\n",
      "movement: 6\n",
      "---------------------\n",
      "case_material: object\n",
      "case_material: 24\n",
      "---------------------\n",
      "year_of_production: float64\n",
      "year_of_production: 157\n",
      "---------------------\n",
      "condition: int64\n",
      "condition: 8\n",
      "---------------------\n",
      "scope_of_delivery: int64\n",
      "scope_of_delivery: 4\n",
      "---------------------\n",
      "case_diameter: float64\n",
      "case_diameter: 575\n",
      "---------------------\n",
      "country_code: object\n",
      "country_code: 120\n",
      "---------------------\n",
      "year_unknown: int64\n",
      "year_unknown: 2\n",
      "---------------------\n"
     ]
    }
   ],
   "execution_count": 16
  },
  {
   "metadata": {
    "ExecuteTime": {
     "end_time": "2025-04-03T23:31:56.734699Z",
     "start_time": "2025-04-03T23:31:56.720340Z"
    }
   },
   "cell_type": "code",
   "source": [
    "# Get the number of case materials for each unique material\n",
    "case_material_counts = df['case_material'].value_counts()\n",
    "print(case_material_counts)\n",
    "\n",
    "\n"
   ],
   "id": "f076ce903943892b",
   "outputs": [
    {
     "name": "stdout",
     "output_type": "stream",
     "text": [
      "case_material\n",
      "Steel                    217396\n",
      "Rose gold                 30980\n",
      "-                         30474\n",
      "Gold/Steel                24108\n",
      "Yellow gold               21258\n",
      "White gold                19441\n",
      "Titanium                  18627\n",
      "Ceramic                   10836\n",
      "Platinum                   3141\n",
      "Plastic                    2433\n",
      "Carbon                     2054\n",
      "Bronze                     1740\n",
      "Red gold                   1563\n",
      "Gold-plated                 961\n",
      "Silver                      954\n",
      "Aluminum                    389\n",
      "Yellow gold and steel       115\n",
      "Brass                        77\n",
      "Tungsten                     73\n",
      "Tantalum                     58\n",
      "Sapphire crystal             56\n",
      "Palladium                    52\n",
      "White gold and steel         30\n",
      "Rose gold and steel          20\n",
      "Name: count, dtype: int64\n"
     ]
    }
   ],
   "execution_count": 17
  },
  {
   "metadata": {
    "ExecuteTime": {
     "end_time": "2025-04-03T23:31:56.750292Z",
     "start_time": "2025-04-03T23:31:56.744243Z"
    }
   },
   "cell_type": "code",
   "source": [
    "print(X[\"condition\"].unique())\n",
    "X[\"condition\"].value_counts()\n"
   ],
   "id": "ab84570e3a1736fb",
   "outputs": [
    {
     "name": "stdout",
     "output_type": "stream",
     "text": [
      "[1 2 3 4 5 6 7 8]\n"
     ]
    },
    {
     "data": {
      "text/plain": [
       "condition\n",
       "2    139734\n",
       "3    110634\n",
       "1     73050\n",
       "4     46493\n",
       "5     11957\n",
       "6      4884\n",
       "7        82\n",
       "8         2\n",
       "Name: count, dtype: int64"
      ]
     },
     "execution_count": 18,
     "metadata": {},
     "output_type": "execute_result"
    }
   ],
   "execution_count": 18
  },
  {
   "metadata": {
    "ExecuteTime": {
     "end_time": "2025-04-03T23:31:56.763922Z",
     "start_time": "2025-04-03T23:31:56.759553Z"
    }
   },
   "cell_type": "code",
   "source": [
    "print(X[\"scope_of_delivery\"].unique())\n",
    "X[\"scope_of_delivery\"].value_counts()\n"
   ],
   "id": "833efc7352e7a352",
   "outputs": [
    {
     "name": "stdout",
     "output_type": "stream",
     "text": [
      "[1 3 4 2]\n"
     ]
    },
    {
     "data": {
      "text/plain": [
       "scope_of_delivery\n",
       "1    275224\n",
       "4     71648\n",
       "3     27725\n",
       "2     12239\n",
       "Name: count, dtype: int64"
      ]
     },
     "execution_count": 19,
     "metadata": {},
     "output_type": "execute_result"
    }
   ],
   "execution_count": 19
  },
  {
   "metadata": {
    "ExecuteTime": {
     "end_time": "2025-04-03T23:31:56.859924Z",
     "start_time": "2025-04-03T23:31:56.817553Z"
    }
   },
   "cell_type": "code",
   "source": "X.info()\n",
   "id": "8cd7d79ffb17c204",
   "outputs": [
    {
     "name": "stdout",
     "output_type": "stream",
     "text": [
      "<class 'pandas.core.frame.DataFrame'>\n",
      "Index: 386836 entries, 0 to 386850\n",
      "Data columns (total 10 columns):\n",
      " #   Column              Non-Null Count   Dtype  \n",
      "---  ------              --------------   -----  \n",
      " 0   year_of_production  386836 non-null  float64\n",
      " 1   condition           386836 non-null  int64  \n",
      " 2   scope_of_delivery   386836 non-null  int64  \n",
      " 3   case_diameter       386836 non-null  float64\n",
      " 4   year_unknown        386836 non-null  int64  \n",
      " 5   brand               386836 non-null  object \n",
      " 6   model               386836 non-null  object \n",
      " 7   movement            386836 non-null  object \n",
      " 8   case_material       386836 non-null  object \n",
      " 9   country_code        386836 non-null  object \n",
      "dtypes: float64(2), int64(3), object(5)\n",
      "memory usage: 32.5+ MB\n"
     ]
    }
   ],
   "execution_count": 20
  },
  {
   "metadata": {
    "ExecuteTime": {
     "end_time": "2025-04-03T23:31:56.878162Z",
     "start_time": "2025-04-03T23:31:56.876951Z"
    }
   },
   "cell_type": "code",
   "source": "",
   "id": "f3e2257ac2aafc7e",
   "outputs": [],
   "execution_count": null
  }
 ],
 "metadata": {
  "kernelspec": {
   "display_name": "Python 3",
   "language": "python",
   "name": "python3"
  },
  "language_info": {
   "codemirror_mode": {
    "name": "ipython",
    "version": 2
   },
   "file_extension": ".py",
   "mimetype": "text/x-python",
   "name": "python",
   "nbconvert_exporter": "python",
   "pygments_lexer": "ipython2",
   "version": "2.7.6"
  }
 },
 "nbformat": 4,
 "nbformat_minor": 5
}
