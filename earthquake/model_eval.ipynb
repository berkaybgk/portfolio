{
 "cells": [
  {
   "metadata": {},
   "cell_type": "markdown",
   "source": [
    "For the earthquake data I have, I have tried to use an ML model to predict the earthquake occurrence.\n",
    "\n",
    "But since the nature of the data is time series, I didn't really get a result much better than a random guess.\n",
    "\n",
    "You can find the code of my tries in the trials.py file.\n",
    "\n",
    "I tried to make some feature engineering to improve the model but the results were not satisfactory.\n",
    "\n",
    "Then I decided to use an LSTM model to predict the earthquake occurrence which perfectly fits the time series data.\n",
    "\n",
    "\n",
    "To evaluate the model, I have trained the model with a few combinations of hyperparameters and features.\n",
    "\n",
    "First of all, I tried increasing the sequence length parameter starting from 2 weeks up to 10 years \n",
    "and a rough sweet spot was found to be 3 years. The model was trained with 3 years of sequence length and 15 epochs.\n",
    "\n",
    "Then, I tried adding some engineered features to the model. The features were:\n",
    "- Largest nearby earthquake magnitude: The largest earthquake magnitude within nearly 80 kms of the location in the last 20 years, last week excluded.\n",
    "- Is there a nearby earthquake: A boolean value indicating if there is an earthquake within 80 kms of the location in the last week.\n"
   ],
   "id": "a5513575768769a8"
  },
  {
   "metadata": {},
   "cell_type": "markdown",
   "source": "",
   "id": "38e134a570688a7c"
  },
  {
   "metadata": {},
   "cell_type": "markdown",
   "source": [
    "***Example results without engineered features:***\n",
    "\n",
    "**Accuracy:** 0.8131\n",
    "\n",
    "**Precision:** 0.8207\n",
    "\n",
    "**Recall:** 0.7410\n",
    "\n",
    "**F1 Score:** 0.7788\n",
    "\n",
    "**Confusion Matrix:**\n",
    "\n",
    "[[ 303 45]\n",
    "\n",
    " [ 72 206]]\n",
    " \n"
   ],
   "id": "9f66b349c086c6a4"
  },
  {
   "metadata": {},
   "cell_type": "markdown",
   "source": [
    "***Example results with engineered features:***\n",
    "\n",
    "**Accuracy:** 0.8576\n",
    "\n",
    "**Precision:** 0.8388\n",
    "\n",
    "**Recall:** 0.8557\n",
    "\n",
    "**F1 Score:** 0.8472\n",
    "\n",
    "**Confusion Matrix:**\n",
    "\n",
    "[[299  49]\n",
    "\n",
    " [ 43 255]]\n"
   ],
   "id": "b1f6bbd174369d89"
  },
  {
   "metadata": {},
   "cell_type": "markdown",
   "source": "",
   "id": "cb4edadde8a80627"
  },
  {
   "metadata": {},
   "cell_type": "markdown",
   "source": "As you can see, every metric has improved with the engineered features.\n",
   "id": "7ac25d2833c9bf2b"
  },
  {
   "metadata": {},
   "cell_type": "markdown",
   "source": [
    "Finally, it should be noted that the model is open to improvement.\n",
    "\n",
    "Running the main.py gives the predicted results for the earthquakes in the last 2 weeks, 1 if an earthquake with magnitude greater than 5.0 is expected nearby.\n"
   ],
   "id": "d0640b3479a96862"
  },
  {
   "metadata": {},
   "cell_type": "code",
   "outputs": [],
   "execution_count": null,
   "source": "",
   "id": "4c4fe71c005817a6"
  }
 ],
 "metadata": {
  "kernelspec": {
   "display_name": "Python 3",
   "language": "python",
   "name": "python3"
  },
  "language_info": {
   "codemirror_mode": {
    "name": "ipython",
    "version": 2
   },
   "file_extension": ".py",
   "mimetype": "text/x-python",
   "name": "python",
   "nbconvert_exporter": "python",
   "pygments_lexer": "ipython2",
   "version": "2.7.6"
  }
 },
 "nbformat": 4,
 "nbformat_minor": 5
}
